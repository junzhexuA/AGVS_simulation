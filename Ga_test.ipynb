{
 "cells": [
  {
   "cell_type": "code",
   "execution_count": 9,
   "metadata": {},
   "outputs": [],
   "source": [
    "import numpy as np\n",
    "import pandas as pd\n",
    "import copy\n",
    "from stA_star import *\n",
    "from map import *\n",
    "\n"
   ]
  },
  {
   "cell_type": "code",
   "execution_count": null,
   "metadata": {},
   "outputs": [],
   "source": [
    "class GeneticAlgorithm:\n",
    "    def __init__(self, population_size, mutation_rate, crossover_rate, sku_info):\n",
    "        self.population_size = population_size\n",
    "        self.mutation_rate = mutation_rate\n",
    "        self.crossover_rate = crossover_rate\n",
    "        self.sku_info = sku_info\n",
    "        self.population = self.initialize_population()\n",
    "\n",
    "    def initialize_population(self):\n",
    "        # 初始化种群\n",
    "        population = []\n",
    "        for _ in range(self.population_size):\n",
    "            chromosome = self.generate_chromosome_with_check(self.sku_info)\n",
    "            population.append(chromosome)\n",
    "        return population\n",
    "\n",
    "    def generate_chromosome_with_check(self,sku_info):\n",
    "        # 生成随机基因\n",
    "        global demand\n",
    "        tmp = copy.deepcopy(demand)\n",
    "        chromosome = []\n",
    "        for i in range(len(sku_info)):\n",
    "            goal_idx = np.where(demand[:,sku_info[i][0]]>0)[0]\n",
    "            if goal_idx.shape[0] > 0:\n",
    "                gene = int(np.random.choice(goal_idx))\n",
    "                chromosome.append(gene)\n",
    "                tmp[int(gene)][sku_info[i][0]] -= 1\n",
    "            else:\n",
    "                gene = -1\n",
    "                chromosome.append(gene)\n",
    "        return chromosome\n",
    "        \n",
    "    def evaluate_fitness(self, chromosome):\n",
    "       # 评价适应度\n",
    "        entrances = {0:(0,0),1:(0,3),2:(0,6),3:(9,1),4:(9,4),5:(9,7)}\n",
    "        goal = {0:(3,2),1:(3,5),2:(6,2),3:(6,5)}\n",
    "        start =[]\n",
    "        end = []\n",
    "        for i in range(len(self.sku_info)):\n",
    "            start.append(entrances[self.sku_info[i][2]] + (self.sku_info[i][1],))\n",
    "        for i in range(len(chromosome)):\n",
    "            if chromosome[i] != -1:\n",
    "                end.append(goal[chromosome[i]])\n",
    "            else:\n",
    "                end.append((-1,-1,-1))\n",
    "        ST_Table = np.expand_dims(raw_map.map, axis=0)\n",
    "        fitness = 0\n",
    "        for i in range(len(start)):\n",
    "            road, work_time=StAstar(raw_map.map,start[i],end[i],ST_Table)\n",
    "            #print(f'商品{j}最短路径：',road,'用时：',work_time+1)\n",
    "            ST_Table = update_StTable(raw_map.map,ST_Table,road[:-1])\n",
    "            fitness += (work_time+1)\n",
    "        return -fitness\n",
    "\n",
    "    def roulette_wheel_selection(self):\n",
    "        # 轮盘赌选择父代\n",
    "        fitness_values = [self.evaluate_fitness(individual) for individual in self.population]\n",
    "\n",
    "        # 将适应度转换为正数（假设更接近0的适应度更好）\n",
    "        min_fitness = min(fitness_values)\n",
    "        adjusted_fitness = [fitness + abs(min_fitness) + 1e-4 for fitness in fitness_values]  # 转换为正数，越接近0的适应度变得越大\n",
    "        # 计算调整后的总适应度\n",
    "        total_fitness = sum(adjusted_fitness)\n",
    "\n",
    "        # 计算每个个体的选择概率\n",
    "        selection_probabilities = [fitness / total_fitness for fitness in adjusted_fitness]\n",
    "        \n",
    "        # 选择父代\n",
    "        population_indices = list(range(len(self.population)))\n",
    "        selected_indices = random.choices(population_indices, weights=selection_probabilities, k=2)\n",
    "        parents = [self.population[index] for index in selected_indices]\n",
    "\n",
    "        return parents\n",
    "\n",
    "    def crossover(self, parent1, parent2):\n",
    "        # 单点交叉\n",
    "        global demand\n",
    "        tmp = copy.deepcopy(demand)\n",
    "        check = np.zeros(demand.shape)\n",
    "        crossover_point = random.randint(0, len(parent1) - 1)\n",
    "        offspring1 = parent1[:crossover_point] + parent2[crossover_point:]\n",
    "        offspring2 = parent2[:crossover_point] + parent1[crossover_point:]\n",
    "        # 检查是否满足需求\n",
    "        for i in range(len(offspring1)):\n",
    "            if offspring1[i] != -1:\n",
    "                check[int(offspring1[i])][sku_info[i][0]] += 1\n",
    "        wrong_demand = demand - check\n",
    "        for i in range(max(self.sku_info[:,0])):\n",
    "            na_demand_idx = np.where(wrong_demand[:,i] < 0)[0]\n",
    "            po_demand_idx = np.where(wrong_demand[:,i] > 0)[0]\n",
    "            sku_idx = np.where(self.sku_info[:,0] == i)[0]\n",
    "            while len(na_demand_idx) > 0:\n",
    "                for j in sku_idx:\n",
    "                    if offspring1[j] in na_demand_idx:\n",
    "                        fix_pos = np.random.choice(po_demand_idx)\n",
    "                        wrong_demand[offspring1[j]][i] += 1\n",
    "                        wrong_demand[fix_pos][i] -= 1\n",
    "                        offspring1[j] = fix_pos\n",
    "                        na_demand_idx = np.where(wrong_demand[:,i] < 0)[0]\n",
    "                        po_demand_idx = np.where(wrong_demand[:,i] > 0)[0]\n",
    "                        break\n",
    "        check = np.zeros(demand.shape)\n",
    "        for i in range(len(offspring2)):\n",
    "            if offspring2[i] != -1:\n",
    "                check[int(offspring2[i])][sku_info[i][0]] += 1\n",
    "        wrong_demand = demand - check\n",
    "        for i in range(max(self.sku_info[:,0])):\n",
    "            na_demand_idx = np.where(wrong_demand[:,i] < 0)[0]\n",
    "            po_demand_idx = np.where(wrong_demand[:,i] > 0)[0]\n",
    "            sku_idx = np.where(self.sku_info[:,0] == i)[0]\n",
    "            while len(na_demand_idx) > 0:\n",
    "                for j in sku_idx:\n",
    "                    if offspring2[j] in na_demand_idx:\n",
    "                        fix_pos = np.random.choice(po_demand_idx)\n",
    "                        wrong_demand[offspring2[j]][i] += 1\n",
    "                        wrong_demand[fix_pos][i] -= 1\n",
    "                        offspring2[j] = fix_pos\n",
    "                        na_demand_idx = np.where(wrong_demand[:,i] < 0)[0]\n",
    "                        po_demand_idx = np.where(wrong_demand[:,i] > 0)[0]\n",
    "                        break\n",
    "        return offspring1, offspring2\n",
    "    def mutate(self, chromosome):\n",
    "        # Mutate a chromosome by randomly changing its genes\n",
    "        for i in range(len(chromosome)):\n",
    "            if random.random() < self.mutation_rate:\n",
    "                chromosome[i] = random.randint(0, len(chromosome) - 1)\n",
    "        return chromosome\n",
    "    \n",
    "    def select_best_individuals(self, offspring):\n",
    "        # Select the best individuals for the next generation\n",
    "        fitness = []\n",
    "        for i in range(len(offspring)):\n",
    "            fitness.append(self.evaluate_fitness(offspring[i]))\n",
    "        fitness = np.array(fitness)\n",
    "        idx = np.argsort(fitness)\n",
    "        return [offspring[i] for i in idx[:self.population_size]]\n",
    "    \n",
    "\n",
    "    def run(self, generations):\n",
    "    # 运行遗传算法指定的代数\n",
    "        best_fitness = -100000\n",
    "        for gen in range(generations):\n",
    "            # 初始化下一代的后代列表\n",
    "            next_generation = []\n",
    "\n",
    "            # 继续选择和交叉，直到达到种群大小\n",
    "            while len(next_generation) < self.population_size:\n",
    "                # 从当前种群中选择父代\n",
    "                parents = self.roulette_wheel_selection()\n",
    "                # 对每对父代进行交叉\n",
    "                for i in range(0, len(parents), 2):\n",
    "                    parent1 = parents[i]\n",
    "                    parent2 = parents[min(i + 1, len(parents) - 1)]  # 确保不越界\n",
    "                    if random.random() < self.crossover_rate:\n",
    "                        offspring1, offspring2 = self.crossover(parent1, parent2)\n",
    "                        next_generation.extend([offspring1, offspring2])\n",
    "                    else:\n",
    "                        next_generation.extend([parent1, parent2])\n",
    "\n",
    "                    # 如果已经生成足够数量的后代，就跳出循环\n",
    "                    if len(next_generation) >= self.population_size:\n",
    "                        break\n",
    "\n",
    "            '''# 变异\n",
    "            for i in range(len(next_generation)):\n",
    "                next_generation[i] = self.mutate(next_generation[i])'''\n",
    "\n",
    "            # 评估后代的适应度，并选择下一代\n",
    "            self.population = self.select_best_individuals(next_generation)\n",
    "\n",
    "            # 输出当前的最优解\n",
    "            '''best_chromosome = self.population[0]\n",
    "            best_fitness = self.evaluate_fitness(best_chromosome)\n",
    "            print(f'第{gen+1}代的最优解：', best_chromosome, '适应度：', -best_fitness)'''\n",
    "            if self.evaluate_fitness(self.population[0]) > best_fitness:\n",
    "                best_chromosome = self.population[0]\n",
    "                best_fitness = self.evaluate_fitness(best_chromosome)\n",
    "            print(f'第{gen+1}代的最优解：', best_chromosome, '适应度：', -best_fitness)\n",
    "\n",
    "        return best_chromosome, best_fitness\n",
    "\n",
    "# 测试迭代\n",
    "if __name__ == '__main__':\n",
    "    file_path = \"测试小算例.xlsx\"\n",
    "    sku_data = load_data(file_path,sheet_name=\"sku_info\")\n",
    "    sku_info = np.array(sku_data.iloc[:,1:])\n",
    "    demand = np.array(load_data(file_path,sheet_name=\"demand\"))\n",
    "    raw_map = Map()  \n",
    "    population_size = 50\n",
    "    mutation_rate = 0.1\n",
    "    crossover_rate = 0.65\n",
    "    generations = 60\n",
    "    genetic_algorithm = GeneticAlgorithm(population_size, mutation_rate, crossover_rate, sku_info)\n",
    "    best_chromosome, best_fitness = genetic_algorithm.run(generations)\n",
    "    "
   ]
  },
  {
   "cell_type": "code",
   "execution_count": 3,
   "metadata": {},
   "outputs": [],
   "source": [
    "def load_data(file_path,sheet_name):\n",
    "    data =pd.read_excel(file_path,sheet_name=sheet_name,header=None)\n",
    "    return data[1:]\n",
    "\n",
    "def load_map(map_path):\n",
    "    data =pd.read_excel(map_path,header=None)\n",
    "    map = np.array(data)\n",
    "    return map\n",
    "\n",
    "file_path = \"CAsimulator\\instance\\s_1.xlsx\"\n",
    "map_path = \"map.xlsx\"\n",
    "sku_data = load_data(file_path,sheet_name=\"sku_info\")\n",
    "sku_info = np.array(sku_data.iloc[:,1:])\n",
    "demand = np.array(load_data(file_path,sheet_name=\"demand\"))\n",
    "map = load_map(map_path)"
   ]
  },
  {
   "cell_type": "code",
   "execution_count": 4,
   "metadata": {},
   "outputs": [
    {
     "data": {
      "text/plain": [
       "array([[2, 3, 5, 2, 3, 5, 2, 3],\n",
       "       [0, 0, 1, 0, 0, 1, 0, 0],\n",
       "       [0, 0, 1, 0, 0, 1, 0, 0],\n",
       "       [1, 1, 4, 1, 1, 4, 1, 1],\n",
       "       [0, 0, 1, 0, 0, 1, 0, 0],\n",
       "       [0, 0, 1, 0, 0, 1, 0, 0],\n",
       "       [1, 1, 4, 1, 1, 4, 1, 1],\n",
       "       [0, 0, 1, 0, 0, 1, 0, 0],\n",
       "       [0, 0, 1, 0, 0, 1, 0, 0],\n",
       "       [3, 2, 5, 3, 2, 5, 3, 2]], dtype=int64)"
      ]
     },
     "execution_count": 4,
     "metadata": {},
     "output_type": "execute_result"
    }
   ],
   "source": [
    "map"
   ]
  },
  {
   "cell_type": "code",
   "execution_count": 5,
   "metadata": {},
   "outputs": [
    {
     "data": {
      "text/html": [
       "<div>\n",
       "<style scoped>\n",
       "    .dataframe tbody tr th:only-of-type {\n",
       "        vertical-align: middle;\n",
       "    }\n",
       "\n",
       "    .dataframe tbody tr th {\n",
       "        vertical-align: top;\n",
       "    }\n",
       "\n",
       "    .dataframe thead th {\n",
       "        text-align: right;\n",
       "    }\n",
       "</style>\n",
       "<table border=\"1\" class=\"dataframe\">\n",
       "  <thead>\n",
       "    <tr style=\"text-align: right;\">\n",
       "      <th></th>\n",
       "      <th>0</th>\n",
       "      <th>1</th>\n",
       "      <th>2</th>\n",
       "      <th>3</th>\n",
       "    </tr>\n",
       "  </thead>\n",
       "  <tbody>\n",
       "    <tr>\n",
       "      <th>1</th>\n",
       "      <td>黄瓜 1kg±0.1kg</td>\n",
       "      <td>3</td>\n",
       "      <td>0</td>\n",
       "      <td>3</td>\n",
       "    </tr>\n",
       "    <tr>\n",
       "      <th>2</th>\n",
       "      <td>南丰蜜桔 500g ±50g</td>\n",
       "      <td>4</td>\n",
       "      <td>0</td>\n",
       "      <td>3</td>\n",
       "    </tr>\n",
       "    <tr>\n",
       "      <th>3</th>\n",
       "      <td>士力架花生 51g/条</td>\n",
       "      <td>2</td>\n",
       "      <td>0</td>\n",
       "      <td>2</td>\n",
       "    </tr>\n",
       "    <tr>\n",
       "      <th>4</th>\n",
       "      <td>黄瓜 1kg±0.1kg</td>\n",
       "      <td>3</td>\n",
       "      <td>0</td>\n",
       "      <td>3</td>\n",
       "    </tr>\n",
       "    <tr>\n",
       "      <th>5</th>\n",
       "      <td>豆王 300g±30g</td>\n",
       "      <td>1</td>\n",
       "      <td>0</td>\n",
       "      <td>1</td>\n",
       "    </tr>\n",
       "    <tr>\n",
       "      <th>6</th>\n",
       "      <td>士力架花生 51g/条</td>\n",
       "      <td>2</td>\n",
       "      <td>0</td>\n",
       "      <td>1</td>\n",
       "    </tr>\n",
       "    <tr>\n",
       "      <th>7</th>\n",
       "      <td>豆王 300g±30g</td>\n",
       "      <td>1</td>\n",
       "      <td>1</td>\n",
       "      <td>0</td>\n",
       "    </tr>\n",
       "    <tr>\n",
       "      <th>8</th>\n",
       "      <td>南丰蜜桔 500g ±50g</td>\n",
       "      <td>4</td>\n",
       "      <td>1</td>\n",
       "      <td>5</td>\n",
       "    </tr>\n",
       "    <tr>\n",
       "      <th>9</th>\n",
       "      <td>南丰蜜桔 500g ±50g</td>\n",
       "      <td>4</td>\n",
       "      <td>1</td>\n",
       "      <td>3</td>\n",
       "    </tr>\n",
       "    <tr>\n",
       "      <th>10</th>\n",
       "      <td>秀珍菇 300g±30g/份</td>\n",
       "      <td>0</td>\n",
       "      <td>2</td>\n",
       "      <td>1</td>\n",
       "    </tr>\n",
       "    <tr>\n",
       "      <th>11</th>\n",
       "      <td>秀珍菇 300g±30g/份</td>\n",
       "      <td>0</td>\n",
       "      <td>2</td>\n",
       "      <td>0</td>\n",
       "    </tr>\n",
       "    <tr>\n",
       "      <th>12</th>\n",
       "      <td>南丰蜜桔 500g ±50g</td>\n",
       "      <td>4</td>\n",
       "      <td>3</td>\n",
       "      <td>5</td>\n",
       "    </tr>\n",
       "    <tr>\n",
       "      <th>13</th>\n",
       "      <td>南丰蜜桔 500g ±50g</td>\n",
       "      <td>4</td>\n",
       "      <td>3</td>\n",
       "      <td>5</td>\n",
       "    </tr>\n",
       "    <tr>\n",
       "      <th>14</th>\n",
       "      <td>南丰蜜桔 500g ±50g</td>\n",
       "      <td>4</td>\n",
       "      <td>3</td>\n",
       "      <td>0</td>\n",
       "    </tr>\n",
       "    <tr>\n",
       "      <th>15</th>\n",
       "      <td>南丰蜜桔 500g ±50g</td>\n",
       "      <td>4</td>\n",
       "      <td>3</td>\n",
       "      <td>3</td>\n",
       "    </tr>\n",
       "    <tr>\n",
       "      <th>16</th>\n",
       "      <td>南丰蜜桔 500g ±50g</td>\n",
       "      <td>4</td>\n",
       "      <td>3</td>\n",
       "      <td>4</td>\n",
       "    </tr>\n",
       "    <tr>\n",
       "      <th>17</th>\n",
       "      <td>士力架花生 51g/条</td>\n",
       "      <td>2</td>\n",
       "      <td>3</td>\n",
       "      <td>1</td>\n",
       "    </tr>\n",
       "    <tr>\n",
       "      <th>18</th>\n",
       "      <td>黄瓜 1kg±0.1kg</td>\n",
       "      <td>3</td>\n",
       "      <td>4</td>\n",
       "      <td>2</td>\n",
       "    </tr>\n",
       "    <tr>\n",
       "      <th>19</th>\n",
       "      <td>黄瓜 1kg±0.1kg</td>\n",
       "      <td>3</td>\n",
       "      <td>4</td>\n",
       "      <td>3</td>\n",
       "    </tr>\n",
       "    <tr>\n",
       "      <th>20</th>\n",
       "      <td>秀珍菇 300g±30g/份</td>\n",
       "      <td>0</td>\n",
       "      <td>5</td>\n",
       "      <td>2</td>\n",
       "    </tr>\n",
       "    <tr>\n",
       "      <th>21</th>\n",
       "      <td>士力架花生 51g/条</td>\n",
       "      <td>2</td>\n",
       "      <td>6</td>\n",
       "      <td>2</td>\n",
       "    </tr>\n",
       "    <tr>\n",
       "      <th>22</th>\n",
       "      <td>黄瓜 1kg±0.1kg</td>\n",
       "      <td>3</td>\n",
       "      <td>7</td>\n",
       "      <td>5</td>\n",
       "    </tr>\n",
       "    <tr>\n",
       "      <th>23</th>\n",
       "      <td>南丰蜜桔 500g ±50g</td>\n",
       "      <td>4</td>\n",
       "      <td>7</td>\n",
       "      <td>5</td>\n",
       "    </tr>\n",
       "    <tr>\n",
       "      <th>24</th>\n",
       "      <td>南丰蜜桔 500g ±50g</td>\n",
       "      <td>4</td>\n",
       "      <td>7</td>\n",
       "      <td>5</td>\n",
       "    </tr>\n",
       "    <tr>\n",
       "      <th>25</th>\n",
       "      <td>黄瓜 1kg±0.1kg</td>\n",
       "      <td>3</td>\n",
       "      <td>7</td>\n",
       "      <td>2</td>\n",
       "    </tr>\n",
       "    <tr>\n",
       "      <th>26</th>\n",
       "      <td>士力架花生 51g/条</td>\n",
       "      <td>2</td>\n",
       "      <td>8</td>\n",
       "      <td>3</td>\n",
       "    </tr>\n",
       "    <tr>\n",
       "      <th>27</th>\n",
       "      <td>黄瓜 1kg±0.1kg</td>\n",
       "      <td>3</td>\n",
       "      <td>9</td>\n",
       "      <td>4</td>\n",
       "    </tr>\n",
       "    <tr>\n",
       "      <th>28</th>\n",
       "      <td>南丰蜜桔 500g ±50g</td>\n",
       "      <td>4</td>\n",
       "      <td>10</td>\n",
       "      <td>3</td>\n",
       "    </tr>\n",
       "    <tr>\n",
       "      <th>29</th>\n",
       "      <td>秀珍菇 300g±30g/份</td>\n",
       "      <td>0</td>\n",
       "      <td>10</td>\n",
       "      <td>1</td>\n",
       "    </tr>\n",
       "  </tbody>\n",
       "</table>\n",
       "</div>"
      ],
      "text/plain": [
       "                 0  1   2  3\n",
       "1     黄瓜 1kg±0.1kg  3   0  3\n",
       "2   南丰蜜桔 500g ±50g  4   0  3\n",
       "3      士力架花生 51g/条  2   0  2\n",
       "4     黄瓜 1kg±0.1kg  3   0  3\n",
       "5      豆王 300g±30g  1   0  1\n",
       "6      士力架花生 51g/条  2   0  1\n",
       "7      豆王 300g±30g  1   1  0\n",
       "8   南丰蜜桔 500g ±50g  4   1  5\n",
       "9   南丰蜜桔 500g ±50g  4   1  3\n",
       "10  秀珍菇 300g±30g/份  0   2  1\n",
       "11  秀珍菇 300g±30g/份  0   2  0\n",
       "12  南丰蜜桔 500g ±50g  4   3  5\n",
       "13  南丰蜜桔 500g ±50g  4   3  5\n",
       "14  南丰蜜桔 500g ±50g  4   3  0\n",
       "15  南丰蜜桔 500g ±50g  4   3  3\n",
       "16  南丰蜜桔 500g ±50g  4   3  4\n",
       "17     士力架花生 51g/条  2   3  1\n",
       "18    黄瓜 1kg±0.1kg  3   4  2\n",
       "19    黄瓜 1kg±0.1kg  3   4  3\n",
       "20  秀珍菇 300g±30g/份  0   5  2\n",
       "21     士力架花生 51g/条  2   6  2\n",
       "22    黄瓜 1kg±0.1kg  3   7  5\n",
       "23  南丰蜜桔 500g ±50g  4   7  5\n",
       "24  南丰蜜桔 500g ±50g  4   7  5\n",
       "25    黄瓜 1kg±0.1kg  3   7  2\n",
       "26     士力架花生 51g/条  2   8  3\n",
       "27    黄瓜 1kg±0.1kg  3   9  4\n",
       "28  南丰蜜桔 500g ±50g  4  10  3\n",
       "29  秀珍菇 300g±30g/份  0  10  1"
      ]
     },
     "execution_count": 5,
     "metadata": {},
     "output_type": "execute_result"
    }
   ],
   "source": [
    "sku_data"
   ]
  },
  {
   "cell_type": "code",
   "execution_count": 6,
   "metadata": {},
   "outputs": [
    {
     "data": {
      "text/plain": [
       "array([[3, 0, 3],\n",
       "       [4, 0, 3],\n",
       "       [2, 0, 2],\n",
       "       [3, 0, 3],\n",
       "       [1, 0, 1],\n",
       "       [2, 0, 1],\n",
       "       [1, 1, 0],\n",
       "       [4, 1, 5],\n",
       "       [4, 1, 3],\n",
       "       [0, 2, 1],\n",
       "       [0, 2, 0],\n",
       "       [4, 3, 5],\n",
       "       [4, 3, 5],\n",
       "       [4, 3, 0],\n",
       "       [4, 3, 3],\n",
       "       [4, 3, 4],\n",
       "       [2, 3, 1],\n",
       "       [3, 4, 2],\n",
       "       [3, 4, 3],\n",
       "       [0, 5, 2],\n",
       "       [2, 6, 2],\n",
       "       [3, 7, 5],\n",
       "       [4, 7, 5],\n",
       "       [4, 7, 5],\n",
       "       [3, 7, 2],\n",
       "       [2, 8, 3],\n",
       "       [3, 9, 4],\n",
       "       [4, 10, 3],\n",
       "       [0, 10, 1]], dtype=object)"
      ]
     },
     "execution_count": 6,
     "metadata": {},
     "output_type": "execute_result"
    }
   ],
   "source": [
    "sku_info #sku的种类， 到达时间， 入口"
   ]
  },
  {
   "cell_type": "code",
   "execution_count": 69,
   "metadata": {},
   "outputs": [
    {
     "data": {
      "text/plain": [
       "array([[13, 12, 14, 15, 16],\n",
       "       [18, 18, 14, 13, 11],\n",
       "       [17, 16, 19, 12, 10],\n",
       "       [15, 12, 17, 11, 11]], dtype=object)"
      ]
     },
     "execution_count": 69,
     "metadata": {},
     "output_type": "execute_result"
    }
   ],
   "source": [
    "demand #投递口，sku，需求量"
   ]
  },
  {
   "cell_type": "code",
   "execution_count": 70,
   "metadata": {},
   "outputs": [
    {
     "data": {
      "text/plain": [
       "array([[2, 3, 5, 2, 3, 5, 2, 3],\n",
       "       [0, 0, 1, 0, 0, 1, 0, 0],\n",
       "       [0, 0, 1, 0, 0, 1, 0, 0],\n",
       "       [1, 1, 4, 1, 1, 4, 1, 1],\n",
       "       [0, 0, 1, 0, 0, 1, 0, 0],\n",
       "       [0, 0, 1, 0, 0, 1, 0, 0],\n",
       "       [1, 1, 4, 1, 1, 4, 1, 1],\n",
       "       [0, 0, 1, 0, 0, 1, 0, 0],\n",
       "       [0, 0, 1, 0, 0, 1, 0, 0],\n",
       "       [3, 2, 5, 3, 2, 5, 3, 2]], dtype=int64)"
      ]
     },
     "execution_count": 70,
     "metadata": {},
     "output_type": "execute_result"
    }
   ],
   "source": [
    "map"
   ]
  },
  {
   "cell_type": "code",
   "execution_count": 81,
   "metadata": {},
   "outputs": [],
   "source": [
    "entrances = [i for i in zip(np.where(map==2)[0],np.where(map==2)[1])]\n",
    "deliverPos = [i for i in zip(np.where(map==4)[0],np.where(map==4)[1])]\n",
    "entrances_dic = {i:entrances[i] for i in range(len(entrances))}\n",
    "deliverPos_dic = {i:deliverPos[i] for i in range(len(deliverPos))}\n",
    "ST_Table = np.expand_dims(map, axis=0)\n",
    "\n",
    "# 贪婪搜索，根据sku的到达入口，找到有需求的最近的投递口\n",
    "def greedy_search(sku_info, demand, map):\n",
    "    solution = []\n",
    "    for sku in range(len(sku_info)):\n",
    "        sku_pos = entrances_dic[sku_info[sku][2]]\n",
    "        sku_type = sku_info[sku][0]\n",
    "        sku_demand = demand[:,sku_type]\n",
    "        # 返回有需求的投递口\n",
    "        sku_demand_idx = np.where(sku_demand>0)[0]\n",
    "        # 计算距离\n",
    "        distance2deliverPos = {}\n",
    "        for i in sku_demand_idx:\n",
    "            distance2deliverPos[i] = abs(sku_pos[0]-deliverPos_dic[i][0])+abs(sku_pos[1]-deliverPos_dic[i][1])\n",
    "        # 返回最近的投递口\n",
    "        min_distance_pos = min(distance2deliverPos, key=distance2deliverPos.get)\n",
    "        # 更新需求\n",
    "        demand[min_distance_pos][sku_type] -= 1\n",
    "        solution.append(min_distance_pos)\n",
    "    return solution, demand"
   ]
  },
  {
   "cell_type": "code",
   "execution_count": 77,
   "metadata": {},
   "outputs": [],
   "source": [
    "solution, demand_new = greedy_search(sku_info, copy.deepcopy(demand), map)"
   ]
  },
  {
   "cell_type": "code",
   "execution_count": 78,
   "metadata": {},
   "outputs": [
    {
     "data": {
      "text/plain": [
       "array([[13, 12, 14, 15, 16],\n",
       "       [18, 18, 14, 13, 11],\n",
       "       [17, 16, 19, 12, 10],\n",
       "       [15, 12, 17, 11, 11]], dtype=object)"
      ]
     },
     "execution_count": 78,
     "metadata": {},
     "output_type": "execute_result"
    }
   ],
   "source": [
    "demand"
   ]
  },
  {
   "cell_type": "code",
   "execution_count": 79,
   "metadata": {},
   "outputs": [
    {
     "data": {
      "text/plain": [
       "array([[10, 10, 12, 15, 15],\n",
       "       [17, 18, 12, 11, 11],\n",
       "       [17, 16, 18, 9, 6],\n",
       "       [15, 12, 17, 9, 5]], dtype=object)"
      ]
     },
     "execution_count": 79,
     "metadata": {},
     "output_type": "execute_result"
    }
   ],
   "source": [
    "demand_new"
   ]
  },
  {
   "cell_type": "code",
   "execution_count": 80,
   "metadata": {},
   "outputs": [
    {
     "name": "stdout",
     "output_type": "stream",
     "text": [
      "[2, 3, 3, 0, 2, 3, 3, 0, 2, 3, 0, 1, 3, 2, 1, 0, 3, 1, 2, 3, 2, 1, 2, 0, 0, 1, 0, 0, 2]\n"
     ]
    }
   ],
   "source": [
    "print(solution)"
   ]
  },
  {
   "cell_type": "code",
   "execution_count": 83,
   "metadata": {},
   "outputs": [],
   "source": [
    "def calculate_time(solution):\n",
    "    global ST_Table\n",
    "    start =[]\n",
    "    end = []\n",
    "    for i in range(len(sku_info)):\n",
    "        start.append(entrances_dic[sku_info[i][2]] + (sku_info[i][1],))\n",
    "    for i in range(len(solution)):\n",
    "        end.append(deliverPos_dic[solution[i]])\n",
    "    time = 0\n",
    "    for i in range(len(start)):\n",
    "        road, work_time=StAstar(map,start[i],end[i],ST_Table)\n",
    "        print(f'商品{i}最短路径：',road,'用时：',work_time+1)\n",
    "        ST_Table = update_StTable(map,ST_Table,road[:-1])\n",
    "        time += (work_time+1)\n",
    "    return time"
   ]
  },
  {
   "cell_type": "code",
   "execution_count": 84,
   "metadata": {},
   "outputs": [
    {
     "name": "stdout",
     "output_type": "stream",
     "text": [
      "商品0最短路径： [(9, 1, 2), (8, 1, 3), (7, 1, 4), (6, 1, 5), (6, 2)] 用时： 4\n",
      "商品1最短路径： [(9, 4, 3), (8, 4, 4), (7, 4, 5), (6, 4, 6), (6, 5)] 用时： 4\n",
      "商品2最短路径： [(9, 7, 6), (8, 7, 7), (7, 7, 8), (6, 7, 9), (5, 7, 10), (5, 7, 11), (5, 6, 12), (5, 5, 13), (6, 5)] 用时： 8\n",
      "商品3最短路径： [(0, 0, 6), (1, 0, 7), (2, 0, 8), (3, 0, 9), (4, 0, 10), (4, 0, 11), (4, 1, 12), (4, 2, 13), (3, 2)] 用时： 8\n",
      "商品4最短路径： [(9, 1, 11), (8, 1, 12), (7, 1, 13), (6, 1, 14), (6, 2)] 用时： 4\n",
      "商品5最短路径： [(9, 7, 12), (8, 7, 13), (7, 7, 14), (6, 7, 15), (5, 7, 16), (5, 7, 17), (5, 6, 18), (5, 5, 19), (6, 5)] 用时： 8\n",
      "商品6最短路径： [(9, 7, 14), (8, 7, 15), (7, 7, 16), (6, 7, 17), (5, 7, 18), (5, 7, 19), (5, 6, 20), (5, 5, 21), (6, 5)] 用时： 8\n",
      "商品7最短路径： [(0, 0, 20), (1, 0, 21), (2, 0, 22), (3, 0, 23), (4, 0, 24), (4, 0, 25), (4, 1, 26), (4, 2, 27), (3, 2)] 用时： 8\n",
      "商品8最短路径： [(9, 1, 21), (8, 1, 22), (7, 1, 23), (6, 1, 24), (6, 2)] 用时： 4\n",
      "商品9最短路径： [(9, 7, 30), (8, 7, 31), (7, 7, 32), (6, 7, 33), (5, 7, 34), (5, 7, 35), (5, 6, 36), (5, 5, 37), (6, 5)] 用时： 8\n",
      "商品10最短路径： [(0, 3, 33), (1, 3, 34), (2, 3, 35), (3, 3, 36), (3, 2)] 用时： 4\n",
      "商品11最短路径： [(0, 6, 34), (1, 6, 35), (2, 6, 36), (3, 6, 37), (3, 5)] 用时： 4\n",
      "商品12最短路径： [(9, 4, 38), (8, 4, 39), (7, 4, 40), (6, 4, 41), (6, 5)] 用时： 4\n",
      "商品13最短路径： [(9, 1, 38), (8, 1, 39), (7, 1, 40), (6, 1, 41), (6, 2)] 用时： 4\n",
      "商品14最短路径： [(0, 6, 39), (1, 6, 40), (2, 6, 41), (3, 6, 42), (3, 5)] 用时： 4\n",
      "商品15最短路径： [(0, 3, 39), (1, 3, 40), (2, 3, 41), (3, 3, 42), (3, 2)] 用时： 4\n",
      "商品16最短路径： [(9, 7, 39), (8, 7, 40), (7, 7, 41), (6, 7, 42), (5, 7, 43), (5, 7, 44), (5, 6, 45), (5, 5, 46), (6, 5)] 用时： 8\n",
      "商品17最短路径： [(0, 6, 40), (1, 6, 41), (2, 6, 42), (3, 6, 43), (3, 5)] 用时： 4\n",
      "商品18最短路径： [(9, 1, 43), (8, 1, 44), (7, 1, 45), (6, 1, 46), (6, 2)] 用时： 4\n",
      "商品19最短路径： [(9, 7, 45), (8, 7, 46), (7, 7, 47), (6, 7, 48), (5, 7, 49), (5, 7, 50), (5, 6, 51), (5, 5, 52), (6, 5)] 用时： 8\n",
      "商品20最短路径： [(9, 1, 47), (8, 1, 48), (7, 1, 49), (6, 1, 50), (6, 2)] 用时： 4\n",
      "商品21最短路径： [(0, 6, 47), (1, 6, 48), (2, 6, 49), (3, 6, 50), (3, 5)] 用时： 4\n",
      "商品22最短路径： [(9, 1, 51), (8, 1, 52), (7, 1, 53), (6, 1, 54), (6, 2)] 用时： 4\n",
      "商品23最短路径： [(0, 3, 52), (1, 3, 53), (2, 3, 54), (3, 3, 55), (3, 2)] 用时： 4\n",
      "商品24最短路径： [(0, 3, 53), (1, 3, 54), (2, 3, 55), (3, 3, 56), (3, 2)] 用时： 4\n",
      "商品25最短路径： [(0, 6, 54), (1, 6, 55), (2, 6, 56), (3, 6, 57), (3, 5)] 用时： 4\n",
      "商品26最短路径： [(0, 0, 56), (1, 0, 57), (2, 0, 58), (3, 0, 59), (4, 0, 60), (4, 0, 61), (4, 1, 62), (4, 2, 63), (3, 2)] 用时： 8\n",
      "商品27最短路径： [(0, 3, 57), (1, 3, 58), (2, 3, 59), (3, 3, 60), (3, 2)] 用时： 4\n",
      "商品28最短路径： [(9, 1, 59), (8, 1, 60), (7, 1, 61), (6, 1, 62), (6, 2)] 用时： 4\n"
     ]
    },
    {
     "data": {
      "text/plain": [
       "152"
      ]
     },
     "execution_count": 84,
     "metadata": {},
     "output_type": "execute_result"
    }
   ],
   "source": [
    "calculate_time(solution)"
   ]
  },
  {
   "cell_type": "code",
   "execution_count": 86,
   "metadata": {},
   "outputs": [
    {
     "data": {
      "text/plain": [
       "(64, 10, 8)"
      ]
     },
     "execution_count": 86,
     "metadata": {},
     "output_type": "execute_result"
    }
   ],
   "source": [
    "ST_Table.shape"
   ]
  },
  {
   "cell_type": "code",
   "execution_count": 87,
   "metadata": {},
   "outputs": [
    {
     "data": {
      "text/plain": [
       "array([[3, 2, 3],\n",
       "       [3, 3, 4],\n",
       "       [4, 6, 5],\n",
       "       [1, 6, 0],\n",
       "       [4, 11, 3],\n",
       "       [4, 12, 5],\n",
       "       [3, 14, 5],\n",
       "       [4, 20, 0],\n",
       "       [4, 21, 3],\n",
       "       [4, 30, 5],\n",
       "       [0, 33, 1],\n",
       "       [2, 34, 2],\n",
       "       [4, 38, 4],\n",
       "       [4, 38, 3],\n",
       "       [2, 39, 2],\n",
       "       [2, 39, 1],\n",
       "       [4, 39, 5],\n",
       "       [0, 40, 2],\n",
       "       [4, 43, 3],\n",
       "       [4, 45, 5],\n",
       "       [2, 47, 3],\n",
       "       [3, 47, 2],\n",
       "       [3, 51, 3],\n",
       "       [1, 52, 1],\n",
       "       [0, 53, 1],\n",
       "       [3, 54, 2],\n",
       "       [0, 56, 0],\n",
       "       [2, 57, 1],\n",
       "       [3, 59, 3]], dtype=object)"
      ]
     },
     "execution_count": 87,
     "metadata": {},
     "output_type": "execute_result"
    }
   ],
   "source": [
    "sku_info"
   ]
  },
  {
   "cell_type": "code",
   "execution_count": 7,
   "metadata": {},
   "outputs": [
    {
     "data": {
      "text/plain": [
       "array([0, 0, 0, 0, 0, 0, 1, 1, 1, 2, 2, 3, 3, 3, 3, 3, 3, 4, 4, 5, 6, 7,\n",
       "       7, 7, 7, 8, 9, 10, 10], dtype=object)"
      ]
     },
     "execution_count": 7,
     "metadata": {},
     "output_type": "execute_result"
    }
   ],
   "source": [
    "sku_info[:,1]"
   ]
  },
  {
   "cell_type": "code",
   "execution_count": 30,
   "metadata": {},
   "outputs": [
    {
     "data": {
      "text/plain": [
       "[9, 1, 4, 5]"
      ]
     },
     "execution_count": 30,
     "metadata": {},
     "output_type": "execute_result"
    }
   ],
   "source": [
    "import random\n",
    "\n",
    "def generate_random_numbers(target_sum, num_cells):\n",
    "    while True:\n",
    "        numbers = [random.randint(0, target_sum) for _ in range(num_cells - 1)]\n",
    "        numbers.append(target_sum - sum(numbers))\n",
    "\n",
    "        if all(0 <= n <= target_sum for n in numbers):\n",
    "            return numbers\n",
    "\n",
    "# 生成总和为6的4个随机正整数或0\n",
    "random_numbers = generate_random_numbers(19, 4)\n",
    "random_numbers\n"
   ]
  },
  {
   "cell_type": "code",
   "execution_count": 15,
   "metadata": {},
   "outputs": [],
   "source": [
    "def evaluate_fitness(chromosome):\n",
    "       # 评价适应度\n",
    "        entrances = {0:(0,0),1:(0,3),2:(0,6),3:(9,1),4:(9,4),5:(9,7)}\n",
    "        goal = {0:(3,2),1:(3,5),2:(6,2),3:(6,5)}\n",
    "        start =[]\n",
    "        end = []\n",
    "        for i in range(len(sku_info)):\n",
    "            start.append(entrances[sku_info[i][2]] + (sku_info[i][1],))\n",
    "        for i in range(len(chromosome)):\n",
    "            if chromosome[i] != -1:\n",
    "                end.append(goal[chromosome[i]])\n",
    "            else:\n",
    "                end.append((-1,-1,-1))\n",
    "        ST_Table = np.expand_dims(raw_map.map, axis=0)\n",
    "        fitness = 0\n",
    "        for i in range(len(start)):\n",
    "            road, work_time=StAstar(raw_map.map,start[i],end[i],ST_Table)\n",
    "            print(f'商品{i}最短路径：',road,'用时：',work_time+1)\n",
    "            ST_Table = update_StTable(raw_map.map,ST_Table,road[:-1])\n",
    "            fitness += (work_time+1)\n",
    "        return fitness\n",
    "\n",
    "def load_data(file_path,sheet_name):\n",
    "    data =pd.read_excel(file_path,sheet_name=sheet_name,header=None)\n",
    "    return data[1:]\n",
    "\n",
    "def load_map(map_path):\n",
    "    data =pd.read_excel(map_path,header=None)\n",
    "    map = np.array(data)\n",
    "    return map"
   ]
  },
  {
   "cell_type": "code",
   "execution_count": 16,
   "metadata": {},
   "outputs": [],
   "source": [
    "file_path = \"CAsimulator\\instance\\s_1.xlsx\"\n",
    "map_path = \"map.xlsx\"\n",
    "sku_data = load_data(file_path,sheet_name=\"sku_info\")\n",
    "sku_info = np.array(sku_data.iloc[:,1:])\n",
    "demand = np.array(load_data(file_path,sheet_name=\"demand\"))\n",
    "raw_map = Map()"
   ]
  },
  {
   "cell_type": "code",
   "execution_count": 18,
   "metadata": {},
   "outputs": [
    {
     "name": "stdout",
     "output_type": "stream",
     "text": [
      "商品0最短路径： [(9, 1, 0), (8, 1, 1), (7, 1, 2), (7, 1, 3), (7, 2, 4), (7, 3, 5), (7, 4, 6), (7, 5, 7), (6, 5)] 用时： 8\n",
      "商品1最短路径： [(0, 6, 0), (1, 6, 1), (2, 6, 2), (3, 6, 3), (4, 6, 4), (5, 6, 5), (6, 6, 6), (6, 5)] 用时： 7\n",
      "商品2最短路径： [(0, 3, 0), (1, 3, 1), (2, 3, 2), (3, 3, 3), (4, 3, 4), (5, 3, 5), (6, 3, 6), (7, 3, 7), (7, 3, 8), (7, 4, 9), (7, 5, 10), (6, 5)] 用时： 11\n",
      "商品3最短路径： [(0, 3, 1), (1, 3, 2), (2, 3, 3), (3, 3, 4), (3, 2)] 用时： 4\n",
      "商品4最短路径： [(9, 1, 2), (8, 1, 3), (7, 1, 4), (6, 1, 5), (6, 2)] 用时： 4\n",
      "商品5最短路径： [(0, 0, 3), (1, 0, 4), (2, 0, 5), (3, 0, 6), (4, 0, 7), (4, 0, 8), (4, 1, 9), (4, 2, 10), (4, 3, 11), (4, 4, 12), (4, 5, 13), (3, 5)] 用时： 11\n",
      "商品6最短路径： [(9, 7, 3), (8, 7, 4), (7, 7, 5), (6, 7, 6), (5, 7, 7), (4, 7, 8), (3, 7, 9), (2, 7, 10), (2, 7, 11), (2, 6, 12), (2, 5, 13), (3, 5)] 用时： 11\n",
      "商品7最短路径： [(9, 1, 4), (8, 1, 5), (7, 1, 6), (6, 1, 7), (6, 2)] 用时： 4\n",
      "商品8最短路径： [(0, 3, 5), (1, 3, 6), (2, 3, 7), (3, 3, 8), (3, 2)] 用时： 4\n",
      "商品9最短路径： [(0, 0, 5), (1, 0, 6), (2, 0, 7), (3, 0, 8), (4, 0, 9), (5, 0, 10), (6, 0, 11), (7, 0, 12), (7, 0, 13), (7, 1, 14), (7, 2, 15), (6, 2)] 用时： 11\n",
      "商品10最短路径： [(9, 1, 6), (8, 1, 7), (7, 1, 8), (6, 1, 9), (6, 2)] 用时： 4\n",
      "商品11最短路径： [(9, 7, 6), (8, 7, 7), (7, 7, 8), (6, 7, 9), (5, 7, 10), (5, 7, 11), (5, 6, 12), (5, 5, 13), (5, 4, 14), (5, 3, 15), (5, 2, 16), (6, 2)] 用时： 11\n",
      "商品12最短路径： [(0, 0, 7), (1, 0, 8), (2, 0, 9), (3, 0, 10), (4, 0, 11), (5, 0, 12), (6, 0, 13), (7, 0, 14), (7, 0, 15), (7, 1, 16), (7, 2, 17), (6, 2)] 用时： 11\n",
      "商品13最短路径： [(9, 4, 8), (8, 4, 9), (7, 4, 10), (6, 4, 11), (5, 4, 12), (4, 4, 13), (3, 4, 14), (3, 5)] 用时： 7\n",
      "商品14最短路径： [(0, 3, 9), (1, 3, 10), (2, 3, 11), (3, 3, 12), (4, 3, 13), (5, 3, 14), (6, 3, 15), (6, 2)] 用时： 7\n"
     ]
    },
    {
     "data": {
      "text/plain": [
       "115"
      ]
     },
     "execution_count": 18,
     "metadata": {},
     "output_type": "execute_result"
    }
   ],
   "source": [
    "evaluate_fitness([3, 3, 3, 0, 2, 1, 1, 2, 0, 2, 2, 2, 2, 1, 2])"
   ]
  },
  {
   "cell_type": "code",
   "execution_count": 19,
   "metadata": {},
   "outputs": [
    {
     "name": "stdout",
     "output_type": "stream",
     "text": [
      "商品0最短路径： [(9, 1, 0), (8, 1, 1), (7, 1, 2), (6, 1, 3), (6, 2)] 用时： 4\n",
      "商品1最短路径： [(0, 6, 0), (1, 6, 1), (2, 6, 2), (3, 6, 3), (4, 6, 4), (5, 6, 5), (6, 6, 6), (6, 5)] 用时： 7\n",
      "商品2最短路径： [(0, 3, 0), (1, 3, 1), (2, 3, 2), (3, 3, 3), (4, 3, 4), (4, 3, 5), (4, 4, 6), (4, 5, 7), (3, 5)] 用时： 8\n",
      "商品3最短路径： [(0, 3, 1), (1, 3, 2), (2, 3, 3), (3, 3, 4), (3, 2)] 用时： 4\n",
      "商品4最短路径： [(9, 1, 2), (8, 1, 3), (7, 1, 4), (6, 1, 5), (6, 2)] 用时： 4\n",
      "商品5最短路径： [(0, 0, 3), (1, 0, 4), (2, 0, 5), (3, 0, 6), (4, 0, 7), (5, 0, 8), (6, 0, 9), (7, 0, 10), (7, 0, 11), (7, 1, 12), (7, 2, 13), (7, 3, 14), (7, 4, 15), (7, 5, 16), (6, 5)] 用时： 14\n",
      "商品6最短路径： [(9, 7, 3), (8, 7, 4), (7, 7, 5), (6, 7, 6), (5, 7, 7), (4, 7, 8), (3, 7, 9), (2, 7, 10), (2, 7, 11), (2, 6, 12), (2, 5, 13), (3, 5)] 用时： 11\n",
      "商品7最短路径： [(9, 1, 4), (8, 1, 5), (7, 1, 6), (6, 1, 7), (6, 2)] 用时： 4\n",
      "商品8最短路径： [(0, 3, 5), (1, 3, 6), (2, 3, 7), (3, 3, 8), (3, 2)] 用时： 4\n",
      "商品9最短路径： [(0, 0, 5), (1, 0, 6), (2, 0, 7), (3, 0, 8), (4, 0, 9), (5, 0, 10), (6, 0, 11), (7, 0, 12), (7, 0, 13), (7, 1, 14), (7, 2, 15), (6, 2)] 用时： 11\n",
      "商品10最短路径： [(9, 1, 6), (8, 1, 7), (7, 1, 8), (7, 1, 9), (7, 2, 10), (7, 3, 11), (7, 4, 12), (7, 5, 13), (6, 5)] 用时： 8\n",
      "商品11最短路径： [(9, 7, 6), (8, 7, 7), (7, 7, 8), (6, 7, 9), (5, 7, 10), (4, 7, 11), (3, 7, 12), (2, 7, 13), (2, 7, 14), (2, 6, 15), (2, 5, 16), (3, 5)] 用时： 11\n",
      "商品12最短路径： [(0, 0, 7), (1, 0, 8), (2, 0, 9), (3, 0, 10), (4, 0, 11), (5, 0, 12), (6, 0, 13), (7, 0, 14), (7, 0, 15), (7, 1, 16), (7, 2, 17), (6, 2)] 用时： 11\n",
      "商品13最短路径： [(9, 4, 8), (8, 4, 9), (7, 4, 10), (6, 4, 11), (5, 4, 12), (5, 4, 13), (5, 3, 14), (5, 2, 15), (6, 2)] 用时： 8\n",
      "商品14最短路径： [(0, 3, 9), (1, 3, 10), (2, 3, 11), (3, 3, 12), (4, 3, 13), (4, 3, 14), (4, 3, 15), (5, 3, 16), (6, 3, 17), (6, 2)] 用时： 9\n"
     ]
    },
    {
     "data": {
      "text/plain": [
       "118"
      ]
     },
     "execution_count": 19,
     "metadata": {},
     "output_type": "execute_result"
    }
   ],
   "source": [
    "evaluate_fitness([2, 3, 1, 0, 2, 3, 1, 2, 0, 2, 3, 1, 2, 2, 2])"
   ]
  },
  {
   "cell_type": "code",
   "execution_count": 41,
   "metadata": {},
   "outputs": [
    {
     "data": {
      "text/plain": [
       "0.9999999999999998"
      ]
     },
     "execution_count": 41,
     "metadata": {},
     "output_type": "execute_result"
    }
   ],
   "source": [
    "A = [3.7608066779892017e-08, 0.0026326022826592206, 0.010530296306436544, 0.011658538309833304, 0.013915022316626826, 0.015419344987822508, 0.015795425655621427, 0.016547586991219266, 0.016547586991219266, 0.01729974832681711, 0.01729974832681711, 0.01767582899461603, 0.01842799033021387, 0.01880407099801279, 0.01880407099801279, 0.01955623233361063, 0.01993231300140955, 0.020308393669208467, 0.02106055500480631, 0.02294095834380091, 0.02444528101499659, 0.025197442350594432, 0.02820608769298579, 0.028582168360784713, 0.028958249028583634, 0.029710410364181473, 0.029710410364181473, 0.03234297503877391, 0.033847297709969595, 0.03459945904556744, 0.03535162038116527, 0.03535162038116527, 0.03647986238456204, 0.03723202372015987, 0.03760810438795879, 0.03911242705915448, 0.039864588394752314, 0.04174499173374692, 0.04174499173374692, 0.044753637076138275]\n",
    "sum(A)"
   ]
  },
  {
   "cell_type": "code",
   "execution_count": 38,
   "metadata": {},
   "outputs": [
    {
     "data": {
      "text/plain": [
       "0.4132460688505111"
      ]
     },
     "execution_count": 38,
     "metadata": {},
     "output_type": "execute_result"
    }
   ],
   "source": [
    "import random\n",
    "random.random()"
   ]
  },
  {
   "cell_type": "code",
   "execution_count": null,
   "metadata": {},
   "outputs": [],
   "source": []
  },
  {
   "cell_type": "code",
   "execution_count": 45,
   "metadata": {},
   "outputs": [
    {
     "data": {
      "text/plain": [
       "3"
      ]
     },
     "execution_count": 45,
     "metadata": {},
     "output_type": "execute_result"
    }
   ],
   "source": [
    "random.randint(0,5)"
   ]
  },
  {
   "cell_type": "code",
   "execution_count": 61,
   "metadata": {},
   "outputs": [
    {
     "data": {
      "text/plain": [
       "0"
      ]
     },
     "execution_count": 61,
     "metadata": {},
     "output_type": "execute_result"
    }
   ],
   "source": [
    "import numpy as np\n",
    "a = np.zeros((5,3))\n",
    "np.where(a[:,0]>0)[0].shape[0]"
   ]
  },
  {
   "cell_type": "code",
   "execution_count": null,
   "metadata": {},
   "outputs": [],
   "source": []
  }
 ],
 "metadata": {
  "kernelspec": {
   "display_name": "base",
   "language": "python",
   "name": "python3"
  },
  "language_info": {
   "codemirror_mode": {
    "name": "ipython",
    "version": 3
   },
   "file_extension": ".py",
   "mimetype": "text/x-python",
   "name": "python",
   "nbconvert_exporter": "python",
   "pygments_lexer": "ipython3",
   "version": "3.7.0"
  }
 },
 "nbformat": 4,
 "nbformat_minor": 2
}
