{
 "cells": [
  {
   "cell_type": "code",
   "execution_count": 4,
   "metadata": {},
   "outputs": [
    {
     "name": "stdout",
     "output_type": "stream",
     "text": [
      "Item Information Matrix:\n",
      "[[1 0]\n",
      " [0 1]\n",
      " [0 2]\n",
      " [2 3]\n",
      " [2 4]\n",
      " [1 5]\n",
      " [3 6]\n",
      " [1 7]\n",
      " [3 8]\n",
      " [0 9]]\n"
     ]
    }
   ],
   "source": [
    "import numpy as np\n",
    "# 使用两列的矩阵来存储商品信息\n",
    "# 第一列为商品种类，第二列为到达时间\n",
    "\n",
    "# 假设有K种商品\n",
    "K = 5\n",
    "\n",
    "# 假设有I件商品到达\n",
    "I = 10\n",
    "\n",
    "# 初始化一个I行2列的矩阵，第一列存储商品种类，第二列存储到达时间\n",
    "item_info_matrix = np.zeros((I, 2), dtype=int)\n",
    "\n",
    "# 随机生成商品种类（0到K-1）\n",
    "item_info_matrix[:, 0] = np.random.randint(0, K, size=I)\n",
    "\n",
    "# 生成商品到达时间（这里假设到达时间是连续的整数，也可以根据需要进行更复杂的生成）\n",
    "item_info_matrix[:, 1] = np.arange(I)\n",
    "\n",
    "# 打印商品信息矩阵\n",
    "print(\"Item Information Matrix:\")\n",
    "print(item_info_matrix)\n"
   ]
  },
  {
   "cell_type": "code",
   "execution_count": null,
   "metadata": {},
   "outputs": [],
   "source": []
  }
 ],
 "metadata": {
  "kernelspec": {
   "display_name": "base",
   "language": "python",
   "name": "python3"
  },
  "language_info": {
   "codemirror_mode": {
    "name": "ipython",
    "version": 3
   },
   "file_extension": ".py",
   "mimetype": "text/x-python",
   "name": "python",
   "nbconvert_exporter": "python",
   "pygments_lexer": "ipython3",
   "version": "3.7.0"
  }
 },
 "nbformat": 4,
 "nbformat_minor": 2
}
